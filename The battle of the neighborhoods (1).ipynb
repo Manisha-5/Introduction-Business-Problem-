{
 "cells": [
  {
   "cell_type": "markdown",
   "metadata": {},
   "source": [
    "# The battle of the neighborhoods"
   ]
  },
  {
   "cell_type": "markdown",
   "metadata": {},
   "source": [
    "## Introduction/Business Problem"
   ]
  },
  {
   "cell_type": "markdown",
   "metadata": {},
   "source": [
    "People love to move from one place to another be it for a short vacation or their permanent dream retirement. At the time of moving in to a new place they usually need a lot of comparative analysis for affordable housing prices, nearby resturants, Cafe, School, malls, pharmacy shops, grocery shops, theatre, hospital, etc.\n",
    "\n",
    "This Capstone Project will save both time and money (and obviously efforts lol) of the user and give an optimal solution.\n",
    "\n",
    "This project will be helpful to the user at the time he/she wants to buy/rent a house based on the facilities available around the neighborhood. For demonstration, I'll be comparing 2 random neighborhoods and analyse the top common places in the neighborhood based on the number of people visiting them.\n",
    "\n",
    "For that, this project will be using Foursquare API that will provide us location based experiences with diverse information about venues, users, photos, and check-ins. Also I'll be using K-mean clustering algorithm to cluster the venues based on the places such as park, gym, theatre etc. \n",
    "\n",
    "At the end of our project, we will be having a better understanding about both the neighborhoods and with the help of data insights we can conclude which one to choose."
   ]
  },
  {
   "cell_type": "markdown",
   "metadata": {},
   "source": [
    "## Data Section"
   ]
  },
  {
   "cell_type": "markdown",
   "metadata": {},
   "source": [
    "• Foursquare API:\n",
    "The Foursquare API has a database of more than 105 million places. This Capstone Project will be using Foursquare API as its prime data gathering source. This API will help us to perform location search, location sharing and details about a business. Foursquare users can also use photos, tips and reviews in many productive ways to add value to the results.\n",
    "\n",
    "• K-mean clustering algorithm will be applied to form the clusters of different categories of places residing in and around the neighborhoods. These clusters from each of those two random neighborhoods will be analyzed individually collectively and comparatively to derive the conclusions.\n",
    "\n",
    "• Work Flow:\n",
    "HTTP requests would be made to the Foursquare API server using zip codes of the random neighborhoods to pull the location information (Latitudes and Longitudes). Due to http request limitations the number of places per neighborhood parameter would reasonably be set to 100 and the radius parameter would be set to 700."
   ]
  },
  {
   "cell_type": "markdown",
   "metadata": {},
   "source": [
    "## Libraries to be used"
   ]
  },
  {
   "cell_type": "markdown",
   "metadata": {},
   "source": [
    "• Pandas - For data analysis and manipulation\n",
    "\n",
    "• NumPy – To compute data in vectorized manner\n",
    "\n",
    "• Geopy – To locate coordinates of locations\n",
    "\n",
    "• JSON – To handle JSON files\n",
    "\n",
    "• Requests – To handle http requests\n",
    "\n",
    "• Sklearn – For machine learning algorithms\n",
    "\n",
    "• Matplotlib – For interactive visualization\n",
    "\n",
    "• Folium – For map rendering"
   ]
  }
 ],
 "metadata": {
  "kernelspec": {
   "display_name": "Python 3",
   "language": "python",
   "name": "python3"
  },
  "language_info": {
   "codemirror_mode": {
    "name": "ipython",
    "version": 3
   },
   "file_extension": ".py",
   "mimetype": "text/x-python",
   "name": "python",
   "nbconvert_exporter": "python",
   "pygments_lexer": "ipython3",
   "version": "3.8.5"
  }
 },
 "nbformat": 4,
 "nbformat_minor": 4
}
