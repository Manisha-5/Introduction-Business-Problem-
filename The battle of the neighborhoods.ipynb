{
 "cells": [
  {
   "cell_type": "markdown",
   "metadata": {},
   "source": [
    "## Introduction Section"
   ]
  },
  {
   "cell_type": "markdown",
   "metadata": {},
   "source": [
    "The primary objective of my project is to use Foursquare API with the essential related data to determine the best location in Canada to open a resturant. Toronto being the capital of Canada have diversity of people and for this project I will be finding the most suitable location for any entrepreneur to open a new restaurant in Toronto, Canada.\n"
   ]
  },
  {
   "cell_type": "markdown",
   "metadata": {},
   "source": [
    "## Data Section"
   ]
  },
  {
   "cell_type": "markdown",
   "metadata": {},
   "source": [
    "I'll be using the .csv files for analysis and interpretations. Some of the sample files that I am going to use in this project are:\n",
    "\n",
    "1.https://en.wikipedia.org/wiki/List_of_postal_codes_of_Canada:_M (This webpage will be further scraped for use)\n",
    "\n",
    "This wikipedia page gives us a brief about the Postal code, borough and neighborhood of Canada.\n",
    "\n",
    "2.https://cocl.us/Geospatial_data\n",
    "\n",
    "This CSV file gives us the geographical coordinates of the places with respect to their PostalCodes.\n",
    "\n",
    "3.Foursquare API: I will be using the foursquare API for the nearby resturants in Canada with their details."
   ]
  }
 ],
 "metadata": {
  "kernelspec": {
   "display_name": "Python 3",
   "language": "python",
   "name": "python3"
  },
  "language_info": {
   "codemirror_mode": {
    "name": "ipython",
    "version": 3
   },
   "file_extension": ".py",
   "mimetype": "text/x-python",
   "name": "python",
   "nbconvert_exporter": "python",
   "pygments_lexer": "ipython3",
   "version": "3.8.5"
  }
 },
 "nbformat": 4,
 "nbformat_minor": 4
}
